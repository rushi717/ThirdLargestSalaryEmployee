{
 "cells": [
  {
   "cell_type": "code",
   "execution_count": 23,
   "metadata": {
    "collapsed": true
   },
   "outputs": [],
   "source": [
    "from pyspark.sql.functions import col\n",
    "from pyspark.sql import SparkSession\n",
    "\n",
    "spark = SparkSession.builder.appName('EmployeeDetails').getOrCreate()"
   ]
  },
  {
   "cell_type": "code",
   "execution_count": 24,
   "outputs": [],
   "source": [
    "sal = spark.read.csv('F:\\DataSets\\EmployeeDetails.csv', header=True,inferSchema=True)"
   ],
   "metadata": {
    "collapsed": false
   }
  },
  {
   "cell_type": "code",
   "execution_count": 25,
   "outputs": [
    {
     "name": "stdout",
     "output_type": "stream",
     "text": [
      "+------+\n",
      "|salary|\n",
      "+------+\n",
      "| 62506|\n",
      "|104437|\n",
      "| 64955|\n",
      "| 64991|\n",
      "| 50825|\n",
      "| 57568|\n",
      "| 95660|\n",
      "| 59365|\n",
      "| 47837|\n",
      "| 50178|\n",
      "| 54670|\n",
      "| 47211|\n",
      "| 92328|\n",
      "| 58709|\n",
      "| 52505|\n",
      "| 57834|\n",
      "| 70131|\n",
      "| 59026|\n",
      "|110000|\n",
      "| 53250|\n",
      "+------+\n",
      "only showing top 20 rows\n",
      "\n"
     ]
    }
   ],
   "source": [
    "sal.select('salary').show()"
   ],
   "metadata": {
    "collapsed": false
   }
  },
  {
   "cell_type": "code",
   "execution_count": 68,
   "outputs": [
    {
     "name": "stdout",
     "output_type": "stream",
     "text": [
      "root\n",
      " |-- Employee_Name: string (nullable = true)\n",
      " |-- EmpID: integer (nullable = true)\n",
      " |-- MarriedID: integer (nullable = true)\n",
      " |-- MaritalStatusID: integer (nullable = true)\n",
      " |-- GenderID: integer (nullable = true)\n",
      " |-- EmpStatusID: integer (nullable = true)\n",
      " |-- DeptID: integer (nullable = true)\n",
      " |-- PerfScoreID: integer (nullable = true)\n",
      " |-- FromDiversityJobFairID: integer (nullable = true)\n",
      " |-- Salary: integer (nullable = true)\n",
      " |-- Termd: integer (nullable = true)\n",
      " |-- PositionID: integer (nullable = true)\n",
      " |-- Position: string (nullable = true)\n",
      " |-- State: string (nullable = true)\n",
      " |-- Zip: integer (nullable = true)\n",
      " |-- DOB: string (nullable = true)\n",
      " |-- Sex: string (nullable = true)\n",
      " |-- MaritalDesc: string (nullable = true)\n",
      " |-- CitizenDesc: string (nullable = true)\n",
      " |-- HispanicLatino: string (nullable = true)\n",
      " |-- RaceDesc: string (nullable = true)\n",
      " |-- DateofHire: string (nullable = true)\n",
      " |-- DateofTermination: string (nullable = true)\n",
      " |-- TermReason: string (nullable = true)\n",
      " |-- EmploymentStatus: string (nullable = true)\n",
      " |-- Department: string (nullable = true)\n",
      " |-- ManagerName: string (nullable = true)\n",
      " |-- ManagerID: integer (nullable = true)\n",
      " |-- RecruitmentSource: string (nullable = true)\n",
      " |-- PerformanceScore: string (nullable = true)\n",
      " |-- EngagementSurvey: double (nullable = true)\n",
      " |-- EmpSatisfaction: integer (nullable = true)\n",
      " |-- SpecialProjectsCount: integer (nullable = true)\n",
      " |-- LastPerformanceReview_Date: string (nullable = true)\n",
      " |-- DaysLateLast30: integer (nullable = true)\n",
      " |-- Absences: integer (nullable = true)\n",
      "\n"
     ]
    }
   ],
   "source": [
    "sal.printSchema()"
   ],
   "metadata": {
    "collapsed": false
   }
  },
  {
   "cell_type": "code",
   "execution_count": 67,
   "outputs": [
    {
     "name": "stdout",
     "output_type": "stream",
     "text": [
      "+------+\n",
      "|Salary|\n",
      "+------+\n",
      "|250000|\n",
      "|220450|\n",
      "|180000|\n",
      "+------+\n",
      "\n"
     ]
    },
    {
     "data": {
      "text/plain": "[Row(Salary=180000)]"
     },
     "execution_count": 67,
     "metadata": {},
     "output_type": "execute_result"
    }
   ],
   "source": [
    "sal.select('Salary').orderBy(col('Salary').desc()).limit(3).show()\n",
    "\n",
    "sal.select('Salary').orderBy(col('Salary').desc()).limit(3).tail(1)"
   ],
   "metadata": {
    "collapsed": false
   }
  }
 ],
 "metadata": {
  "kernelspec": {
   "display_name": "Python 3",
   "language": "python",
   "name": "python3"
  },
  "language_info": {
   "codemirror_mode": {
    "name": "ipython",
    "version": 2
   },
   "file_extension": ".py",
   "mimetype": "text/x-python",
   "name": "python",
   "nbconvert_exporter": "python",
   "pygments_lexer": "ipython2",
   "version": "2.7.6"
  }
 },
 "nbformat": 4,
 "nbformat_minor": 0
}
